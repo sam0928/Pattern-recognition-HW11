{
  "cells": [
    {
      "cell_type": "markdown",
      "metadata": {
        "id": "60MxeNx9kuTH"
      },
      "source": [
        "This is a companion notebook for the book [Deep Learning with Python, Second Edition](https://www.manning.com/books/deep-learning-with-python-second-edition?a_aid=keras&a_bid=76564dff). For readability, it only contains runnable code blocks and section titles, and omits everything else in the book: text paragraphs, figures, and pseudocode.\n",
        "\n",
        "**If you want to be able to follow what's going on, I recommend reading the notebook side by side with your copy of the book.**\n",
        "\n",
        "This notebook was generated for TensorFlow 2.6."
      ]
    },
    {
      "cell_type": "markdown",
      "metadata": {
        "id": "lB_FLv6UkuTJ"
      },
      "source": [
        "## Beyond text classification: Sequence-to-sequence learning"
      ]
    },
    {
      "cell_type": "markdown",
      "metadata": {
        "id": "SeoNPL6SkuTK"
      },
      "source": [
        "### A machine translation example"
      ]
    },
    {
      "cell_type": "code",
      "execution_count": 1,
      "metadata": {
        "colab": {
          "base_uri": "https://localhost:8080/"
        },
        "id": "MUTDHalykuTL",
        "outputId": "d75c830d-588a-4078-9ee0-f8a8785a221b"
      },
      "outputs": [
        {
          "output_type": "stream",
          "name": "stdout",
          "text": [
            "--2022-12-06 20:02:10--  http://storage.googleapis.com/download.tensorflow.org/data/spa-eng.zip\n",
            "Resolving storage.googleapis.com (storage.googleapis.com)... 172.217.203.128, 172.253.123.128, 142.250.97.128, ...\n",
            "Connecting to storage.googleapis.com (storage.googleapis.com)|172.217.203.128|:80... connected.\n",
            "HTTP request sent, awaiting response... 200 OK\n",
            "Length: 2638744 (2.5M) [application/zip]\n",
            "Saving to: ‘spa-eng.zip’\n",
            "\n",
            "\rspa-eng.zip           0%[                    ]       0  --.-KB/s               \rspa-eng.zip         100%[===================>]   2.52M  --.-KB/s    in 0.02s   \n",
            "\n",
            "2022-12-06 20:02:10 (147 MB/s) - ‘spa-eng.zip’ saved [2638744/2638744]\n",
            "\n"
          ]
        }
      ],
      "source": [
        "!wget http://storage.googleapis.com/download.tensorflow.org/data/spa-eng.zip\n",
        "!unzip -q spa-eng.zip"
      ]
    },
    {
      "cell_type": "code",
      "execution_count": 2,
      "metadata": {
        "id": "dvgYhhVIkuTM"
      },
      "outputs": [],
      "source": [
        "text_file = \"spa-eng/spa.txt\"\n",
        "with open(text_file) as f:\n",
        "    lines = f.read().split(\"\\n\")[:-1]\n",
        "text_pairs = []\n",
        "for line in lines:\n",
        "    english, spanish = line.split(\"\\t\")\n",
        "    spanish = \"[start] \" + spanish + \" [end]\"\n",
        "    text_pairs.append((english, spanish))"
      ]
    },
    {
      "cell_type": "code",
      "execution_count": 3,
      "metadata": {
        "colab": {
          "base_uri": "https://localhost:8080/"
        },
        "id": "ypjQh5jOkuTM",
        "outputId": "a210167c-4737-411f-b398-cf4b0ce6137e"
      },
      "outputs": [
        {
          "output_type": "stream",
          "name": "stdout",
          "text": [
            "('From this point, we must proceed with caution.', '[start] A partir de aquí debemos ir con precaución. [end]')\n"
          ]
        }
      ],
      "source": [
        "import random\n",
        "print(random.choice(text_pairs))"
      ]
    },
    {
      "cell_type": "code",
      "execution_count": 4,
      "metadata": {
        "id": "D0sqhRAPkuTN"
      },
      "outputs": [],
      "source": [
        "import random\n",
        "random.shuffle(text_pairs)\n",
        "num_val_samples = int(0.15 * len(text_pairs))\n",
        "num_train_samples = len(text_pairs) - 2 * num_val_samples\n",
        "train_pairs = text_pairs[:num_train_samples]\n",
        "val_pairs = text_pairs[num_train_samples:num_train_samples + num_val_samples]\n",
        "test_pairs = text_pairs[num_train_samples + num_val_samples:]"
      ]
    },
    {
      "cell_type": "markdown",
      "metadata": {
        "id": "jBbukD7zkuTN"
      },
      "source": [
        "**Vectorizing the English and Spanish text pairs**"
      ]
    },
    {
      "cell_type": "code",
      "execution_count": 5,
      "metadata": {
        "id": "jw5Ur-LvkuTN"
      },
      "outputs": [],
      "source": [
        "import tensorflow as tf\n",
        "import string\n",
        "import re\n",
        "from tensorflow.keras import layers\n",
        "\n",
        "strip_chars = string.punctuation + \"¿\"\n",
        "strip_chars = strip_chars.replace(\"[\", \"\")\n",
        "strip_chars = strip_chars.replace(\"]\", \"\")\n",
        "\n",
        "def custom_standardization(input_string):\n",
        "    lowercase = tf.strings.lower(input_string)\n",
        "    return tf.strings.regex_replace(\n",
        "        lowercase, f\"[{re.escape(strip_chars)}]\", \"\")\n",
        "\n",
        "vocab_size = 15000\n",
        "sequence_length = 20\n",
        "\n",
        "source_vectorization = layers.TextVectorization(\n",
        "    max_tokens=vocab_size,\n",
        "    output_mode=\"int\",\n",
        "    output_sequence_length=sequence_length,\n",
        ")\n",
        "target_vectorization = layers.TextVectorization(\n",
        "    max_tokens=vocab_size,\n",
        "    output_mode=\"int\",\n",
        "    output_sequence_length=sequence_length + 1,\n",
        "    standardize=custom_standardization,\n",
        ")\n",
        "train_english_texts = [pair[0] for pair in train_pairs]\n",
        "train_spanish_texts = [pair[1] for pair in train_pairs]\n",
        "source_vectorization.adapt(train_english_texts)\n",
        "target_vectorization.adapt(train_spanish_texts)"
      ]
    },
    {
      "cell_type": "markdown",
      "metadata": {
        "id": "EDMVd5l5kuTO"
      },
      "source": [
        "**Preparing datasets for the translation task**"
      ]
    },
    {
      "cell_type": "code",
      "execution_count": 6,
      "metadata": {
        "id": "m96gcbRmkuTO"
      },
      "outputs": [],
      "source": [
        "batch_size = 64\n",
        "\n",
        "def format_dataset(eng, spa):\n",
        "    eng = source_vectorization(eng)\n",
        "    spa = target_vectorization(spa)\n",
        "    return ({\n",
        "        \"english\": eng,\n",
        "        \"spanish\": spa[:, :-1],\n",
        "    }, spa[:, 1:])\n",
        "\n",
        "def make_dataset(pairs):\n",
        "    eng_texts, spa_texts = zip(*pairs)\n",
        "    eng_texts = list(eng_texts)\n",
        "    spa_texts = list(spa_texts)\n",
        "    dataset = tf.data.Dataset.from_tensor_slices((eng_texts, spa_texts))\n",
        "    dataset = dataset.batch(batch_size)\n",
        "    dataset = dataset.map(format_dataset, num_parallel_calls=4)\n",
        "    return dataset.shuffle(2048).prefetch(16).cache()\n",
        "\n",
        "train_ds = make_dataset(train_pairs)\n",
        "val_ds = make_dataset(val_pairs)"
      ]
    },
    {
      "cell_type": "code",
      "execution_count": 7,
      "metadata": {
        "colab": {
          "base_uri": "https://localhost:8080/"
        },
        "id": "2QKxT3RXkuTP",
        "outputId": "406f55da-b525-4283-fbb7-1ec023dff679"
      },
      "outputs": [
        {
          "output_type": "stream",
          "name": "stdout",
          "text": [
            "inputs['english'].shape: (64, 20)\n",
            "inputs['spanish'].shape: (64, 20)\n",
            "targets.shape: (64, 20)\n"
          ]
        }
      ],
      "source": [
        "for inputs, targets in train_ds.take(1):\n",
        "    print(f\"inputs['english'].shape: {inputs['english'].shape}\")\n",
        "    print(f\"inputs['spanish'].shape: {inputs['spanish'].shape}\")\n",
        "    print(f\"targets.shape: {targets.shape}\")"
      ]
    },
    {
      "cell_type": "markdown",
      "metadata": {
        "id": "l1C1TI2xkuTP"
      },
      "source": [
        "### Sequence-to-sequence learning with RNNs"
      ]
    },
    {
      "cell_type": "markdown",
      "metadata": {
        "id": "4qbPicYekuTP"
      },
      "source": [
        "**GRU-based encoder**"
      ]
    },
    {
      "cell_type": "code",
      "execution_count": 8,
      "metadata": {
        "id": "woNS_4likuTP"
      },
      "outputs": [],
      "source": [
        "from tensorflow import keras\n",
        "\n",
        "embed_dim = 256\n",
        "latent_dim = 1024\n",
        "\n",
        "source = keras.Input(shape=(None,), dtype=\"int64\", name=\"english\")\n",
        "x = layers.Embedding(vocab_size, embed_dim, mask_zero=True)(source)\n",
        "encoded_source = layers.Bidirectional(\n",
        "    layers.GRU(latent_dim), merge_mode=\"sum\")(x)"
      ]
    },
    {
      "cell_type": "markdown",
      "metadata": {
        "id": "q7N76JWVkuTQ"
      },
      "source": [
        "**GRU-based decoder and the end-to-end model**"
      ]
    },
    {
      "cell_type": "code",
      "execution_count": 9,
      "metadata": {
        "id": "Zmvpm7IVkuTQ"
      },
      "outputs": [],
      "source": [
        "past_target = keras.Input(shape=(None,), dtype=\"int64\", name=\"spanish\")\n",
        "x = layers.Embedding(vocab_size, embed_dim, mask_zero=True)(past_target)\n",
        "decoder_gru = layers.GRU(latent_dim, return_sequences=True)\n",
        "x = decoder_gru(x, initial_state=encoded_source)\n",
        "x = layers.Dropout(0.5)(x)\n",
        "target_next_step = layers.Dense(vocab_size, activation=\"softmax\")(x)\n",
        "seq2seq_rnn = keras.Model([source, past_target], target_next_step)"
      ]
    },
    {
      "cell_type": "markdown",
      "metadata": {
        "id": "lBKlv4M0kuTQ"
      },
      "source": [
        "**Training our recurrent sequence-to-sequence model**"
      ]
    },
    {
      "cell_type": "code",
      "execution_count": 10,
      "metadata": {
        "colab": {
          "base_uri": "https://localhost:8080/"
        },
        "id": "kBDOQpxokuTQ",
        "outputId": "b30c86bf-3102-4cb4-e689-2742ca6ead18"
      },
      "outputs": [
        {
          "output_type": "stream",
          "name": "stdout",
          "text": [
            "Epoch 1/15\n",
            "1302/1302 [==============================] - 136s 93ms/step - loss: 1.6309 - accuracy: 0.4183 - val_loss: 1.3181 - val_accuracy: 0.5072\n",
            "Epoch 2/15\n",
            "1302/1302 [==============================] - 117s 90ms/step - loss: 1.3099 - accuracy: 0.5284 - val_loss: 1.1621 - val_accuracy: 0.5665\n",
            "Epoch 3/15\n",
            "1302/1302 [==============================] - 117s 90ms/step - loss: 1.1675 - accuracy: 0.5786 - val_loss: 1.0735 - val_accuracy: 0.6014\n",
            "Epoch 4/15\n",
            "1302/1302 [==============================] - 117s 90ms/step - loss: 1.0770 - accuracy: 0.6103 - val_loss: 1.0391 - val_accuracy: 0.6194\n",
            "Epoch 5/15\n",
            "1302/1302 [==============================] - 117s 90ms/step - loss: 1.0310 - accuracy: 0.6346 - val_loss: 1.0283 - val_accuracy: 0.6294\n",
            "Epoch 6/15\n",
            "1302/1302 [==============================] - 117s 90ms/step - loss: 0.9999 - accuracy: 0.6533 - val_loss: 1.0263 - val_accuracy: 0.6325\n",
            "Epoch 7/15\n",
            "1302/1302 [==============================] - 117s 90ms/step - loss: 0.9812 - accuracy: 0.6662 - val_loss: 1.0273 - val_accuracy: 0.6367\n",
            "Epoch 8/15\n",
            "1302/1302 [==============================] - 117s 90ms/step - loss: 0.9677 - accuracy: 0.6766 - val_loss: 1.0279 - val_accuracy: 0.6396\n",
            "Epoch 9/15\n",
            "1302/1302 [==============================] - 117s 90ms/step - loss: 0.9573 - accuracy: 0.6847 - val_loss: 1.0308 - val_accuracy: 0.6416\n",
            "Epoch 10/15\n",
            "1302/1302 [==============================] - 117s 90ms/step - loss: 0.9500 - accuracy: 0.6903 - val_loss: 1.0345 - val_accuracy: 0.6421\n",
            "Epoch 11/15\n",
            "1302/1302 [==============================] - 117s 90ms/step - loss: 0.9442 - accuracy: 0.6949 - val_loss: 1.0356 - val_accuracy: 0.6435\n",
            "Epoch 12/15\n",
            "1302/1302 [==============================] - 116s 89ms/step - loss: 0.9407 - accuracy: 0.6975 - val_loss: 1.0385 - val_accuracy: 0.6426\n",
            "Epoch 13/15\n",
            "1302/1302 [==============================] - 117s 90ms/step - loss: 0.9382 - accuracy: 0.6999 - val_loss: 1.0412 - val_accuracy: 0.6438\n",
            "Epoch 14/15\n",
            "1302/1302 [==============================] - 117s 90ms/step - loss: 0.9359 - accuracy: 0.7018 - val_loss: 1.0432 - val_accuracy: 0.6432\n",
            "Epoch 15/15\n",
            "1302/1302 [==============================] - 116s 89ms/step - loss: 0.9360 - accuracy: 0.7025 - val_loss: 1.0465 - val_accuracy: 0.6435\n"
          ]
        },
        {
          "output_type": "execute_result",
          "data": {
            "text/plain": [
              "<keras.callbacks.History at 0x7f40745f48e0>"
            ]
          },
          "metadata": {},
          "execution_count": 10
        }
      ],
      "source": [
        "seq2seq_rnn.compile(\n",
        "    optimizer=\"rmsprop\",\n",
        "    loss=\"sparse_categorical_crossentropy\",\n",
        "    metrics=[\"accuracy\"])\n",
        "seq2seq_rnn.fit(train_ds, epochs=15, validation_data=val_ds)"
      ]
    },
    {
      "cell_type": "markdown",
      "metadata": {
        "id": "9NzaNvXKkuTR"
      },
      "source": [
        "**Translating new sentences with our RNN encoder and decoder**"
      ]
    },
    {
      "cell_type": "code",
      "execution_count": 11,
      "metadata": {
        "colab": {
          "base_uri": "https://localhost:8080/"
        },
        "id": "kVBWLSFakuTR",
        "outputId": "a1f760cf-6848-44a5-92d7-bf7bb7bc5d25"
      },
      "outputs": [
        {
          "output_type": "stream",
          "name": "stdout",
          "text": [
            "-\n",
            "I want to become a French teacher.\n",
            "1/1 [==============================] - 3s 3s/step\n",
            "1/1 [==============================] - 0s 18ms/step\n",
            "1/1 [==============================] - 0s 18ms/step\n",
            "1/1 [==============================] - 0s 18ms/step\n",
            "1/1 [==============================] - 0s 18ms/step\n",
            "1/1 [==============================] - 0s 18ms/step\n",
            "[start] quiero ser profesor de francés [end]\n",
            "-\n",
            "Mary showed the letter to me.\n",
            "1/1 [==============================] - 0s 22ms/step\n",
            "1/1 [==============================] - 0s 18ms/step\n",
            "1/1 [==============================] - 0s 18ms/step\n",
            "1/1 [==============================] - 0s 18ms/step\n",
            "1/1 [==============================] - 0s 19ms/step\n",
            "1/1 [==============================] - 0s 23ms/step\n",
            "[start] mary me mostró la carta [end]\n",
            "-\n",
            "On the following day, we all had terrible hangovers.\n",
            "1/1 [==============================] - 0s 19ms/step\n",
            "1/1 [==============================] - 0s 18ms/step\n",
            "1/1 [==============================] - 0s 20ms/step\n",
            "1/1 [==============================] - 0s 22ms/step\n",
            "1/1 [==============================] - 0s 21ms/step\n",
            "1/1 [==============================] - 0s 19ms/step\n",
            "1/1 [==============================] - 0s 19ms/step\n",
            "1/1 [==============================] - 0s 19ms/step\n",
            "1/1 [==============================] - 0s 19ms/step\n",
            "[start] al día [UNK] todo el día que [UNK] [end]\n",
            "-\n",
            "Every room in my house has two or more windows.\n",
            "1/1 [==============================] - 0s 20ms/step\n",
            "1/1 [==============================] - 0s 18ms/step\n",
            "1/1 [==============================] - 0s 20ms/step\n",
            "1/1 [==============================] - 0s 19ms/step\n",
            "1/1 [==============================] - 0s 20ms/step\n",
            "1/1 [==============================] - 0s 19ms/step\n",
            "1/1 [==============================] - 0s 20ms/step\n",
            "1/1 [==============================] - 0s 21ms/step\n",
            "1/1 [==============================] - 0s 27ms/step\n",
            "1/1 [==============================] - 0s 21ms/step\n",
            "1/1 [==============================] - 0s 21ms/step\n",
            "[start] todas las dos de mi casa tienen dos o media [end]\n",
            "-\n",
            "I myself will repair that machine.\n",
            "1/1 [==============================] - 0s 19ms/step\n",
            "1/1 [==============================] - 0s 18ms/step\n",
            "1/1 [==============================] - 0s 19ms/step\n",
            "1/1 [==============================] - 0s 20ms/step\n",
            "1/1 [==============================] - 0s 18ms/step\n",
            "1/1 [==============================] - 0s 22ms/step\n",
            "1/1 [==============================] - 0s 20ms/step\n",
            "[start] me [UNK] que esa me [UNK] [end]\n",
            "-\n",
            "I know Tom is tired.\n",
            "1/1 [==============================] - 0s 19ms/step\n",
            "1/1 [==============================] - 0s 18ms/step\n",
            "1/1 [==============================] - 0s 18ms/step\n",
            "1/1 [==============================] - 0s 20ms/step\n",
            "1/1 [==============================] - 0s 20ms/step\n",
            "1/1 [==============================] - 0s 21ms/step\n",
            "[start] sé que tom está cansado [end]\n",
            "-\n",
            "I am sorry to cancel the appointment at the last minute.\n",
            "1/1 [==============================] - 0s 20ms/step\n",
            "1/1 [==============================] - 0s 19ms/step\n",
            "1/1 [==============================] - 0s 25ms/step\n",
            "1/1 [==============================] - 0s 19ms/step\n",
            "1/1 [==============================] - 0s 22ms/step\n",
            "1/1 [==============================] - 0s 19ms/step\n",
            "1/1 [==============================] - 0s 20ms/step\n",
            "1/1 [==============================] - 0s 21ms/step\n",
            "1/1 [==============================] - 0s 21ms/step\n",
            "[start] lamento la hora de al está por favor [end]\n",
            "-\n",
            "I know all their names.\n",
            "1/1 [==============================] - 0s 20ms/step\n",
            "1/1 [==============================] - 0s 20ms/step\n",
            "1/1 [==============================] - 0s 18ms/step\n",
            "1/1 [==============================] - 0s 18ms/step\n",
            "1/1 [==============================] - 0s 20ms/step\n",
            "[start] conozco todo sus todos [end]\n",
            "-\n",
            "I love the smell of coffee in the morning.\n",
            "1/1 [==============================] - 0s 23ms/step\n",
            "1/1 [==============================] - 0s 20ms/step\n",
            "1/1 [==============================] - 0s 20ms/step\n",
            "1/1 [==============================] - 0s 20ms/step\n",
            "1/1 [==============================] - 0s 20ms/step\n",
            "1/1 [==============================] - 0s 23ms/step\n",
            "1/1 [==============================] - 0s 25ms/step\n",
            "1/1 [==============================] - 0s 22ms/step\n",
            "[start] me encanta el café por la mañana [end]\n",
            "-\n",
            "Tom knows Mary likes reggae.\n",
            "1/1 [==============================] - 0s 20ms/step\n",
            "1/1 [==============================] - 0s 21ms/step\n",
            "1/1 [==============================] - 0s 22ms/step\n",
            "1/1 [==============================] - 0s 21ms/step\n",
            "1/1 [==============================] - 0s 21ms/step\n",
            "1/1 [==============================] - 0s 21ms/step\n",
            "1/1 [==============================] - 0s 19ms/step\n",
            "1/1 [==============================] - 0s 23ms/step\n",
            "1/1 [==============================] - 0s 21ms/step\n",
            "1/1 [==============================] - 0s 21ms/step\n",
            "[start] tom sabe a mary lo que [UNK] el [UNK] [end]\n",
            "-\n",
            "Tom crosses this bridge at least once a week.\n",
            "1/1 [==============================] - 0s 20ms/step\n",
            "1/1 [==============================] - 0s 20ms/step\n",
            "1/1 [==============================] - 0s 23ms/step\n",
            "1/1 [==============================] - 0s 20ms/step\n",
            "1/1 [==============================] - 0s 19ms/step\n",
            "1/1 [==============================] - 0s 19ms/step\n",
            "1/1 [==============================] - 0s 22ms/step\n",
            "1/1 [==============================] - 0s 19ms/step\n",
            "1/1 [==============================] - 0s 20ms/step\n",
            "1/1 [==============================] - 0s 20ms/step\n",
            "1/1 [==============================] - 0s 23ms/step\n",
            "[start] tom [UNK] este al menos de una vez al mes [end]\n",
            "-\n",
            "Please turn in the report by the end of the month.\n",
            "1/1 [==============================] - 0s 22ms/step\n",
            "1/1 [==============================] - 0s 21ms/step\n",
            "1/1 [==============================] - 0s 23ms/step\n",
            "1/1 [==============================] - 0s 21ms/step\n",
            "1/1 [==============================] - 0s 19ms/step\n",
            "1/1 [==============================] - 0s 19ms/step\n",
            "1/1 [==============================] - 0s 20ms/step\n",
            "[start] por favor [UNK] el próximo mes [end]\n",
            "-\n",
            "The soldier saved his friend at the cost of his own life.\n",
            "1/1 [==============================] - 0s 20ms/step\n",
            "1/1 [==============================] - 0s 19ms/step\n",
            "1/1 [==============================] - 0s 21ms/step\n",
            "1/1 [==============================] - 0s 20ms/step\n",
            "1/1 [==============================] - 0s 19ms/step\n",
            "1/1 [==============================] - 0s 23ms/step\n",
            "1/1 [==============================] - 0s 25ms/step\n",
            "1/1 [==============================] - 0s 21ms/step\n",
            "1/1 [==============================] - 0s 19ms/step\n",
            "1/1 [==============================] - 0s 20ms/step\n",
            "[start] el chico le hizo su amigo a su vida [end]\n",
            "-\n",
            "This car comes with an air conditioner.\n",
            "1/1 [==============================] - 0s 18ms/step\n",
            "1/1 [==============================] - 0s 18ms/step\n",
            "1/1 [==============================] - 0s 24ms/step\n",
            "1/1 [==============================] - 0s 20ms/step\n",
            "1/1 [==============================] - 0s 19ms/step\n",
            "1/1 [==============================] - 0s 21ms/step\n",
            "1/1 [==============================] - 0s 19ms/step\n",
            "1/1 [==============================] - 0s 23ms/step\n",
            "[start] este auto [UNK] con un auto [UNK] [end]\n",
            "-\n",
            "I'd like to have a test for breast cancer.\n",
            "1/1 [==============================] - 0s 19ms/step\n",
            "1/1 [==============================] - 0s 20ms/step\n",
            "1/1 [==============================] - 0s 20ms/step\n",
            "1/1 [==============================] - 0s 21ms/step\n",
            "1/1 [==============================] - 0s 20ms/step\n",
            "1/1 [==============================] - 0s 21ms/step\n",
            "1/1 [==============================] - 0s 25ms/step\n",
            "1/1 [==============================] - 0s 22ms/step\n",
            "1/1 [==============================] - 0s 21ms/step\n",
            "1/1 [==============================] - 0s 20ms/step\n",
            "1/1 [==============================] - 0s 22ms/step\n",
            "[start] quisiera hacer un [UNK] de problemas para que se [UNK] [end]\n",
            "-\n",
            "Tom has a pretty girlfriend.\n",
            "1/1 [==============================] - 0s 21ms/step\n",
            "1/1 [==============================] - 0s 23ms/step\n",
            "1/1 [==============================] - 0s 22ms/step\n",
            "1/1 [==============================] - 0s 20ms/step\n",
            "1/1 [==============================] - 0s 18ms/step\n",
            "1/1 [==============================] - 0s 19ms/step\n",
            "1/1 [==============================] - 0s 20ms/step\n",
            "[start] tom tiene una novia muy seguro [end]\n",
            "-\n",
            "How many employees do you have?\n",
            "1/1 [==============================] - 0s 18ms/step\n",
            "1/1 [==============================] - 0s 19ms/step\n",
            "1/1 [==============================] - 0s 18ms/step\n",
            "1/1 [==============================] - 0s 20ms/step\n",
            "[start] cuántos hijos tienes [end]\n",
            "-\n",
            "Someone must've left the water running.\n",
            "1/1 [==============================] - 0s 23ms/step\n",
            "1/1 [==============================] - 0s 18ms/step\n",
            "1/1 [==============================] - 0s 18ms/step\n",
            "1/1 [==============================] - 0s 19ms/step\n",
            "1/1 [==============================] - 0s 18ms/step\n",
            "1/1 [==============================] - 0s 19ms/step\n",
            "1/1 [==============================] - 0s 20ms/step\n",
            "1/1 [==============================] - 0s 19ms/step\n",
            "[start] alguien tiene que haber [UNK] el agua [end]\n",
            "-\n",
            "In life there are ups and downs.\n",
            "1/1 [==============================] - 0s 18ms/step\n",
            "1/1 [==============================] - 0s 18ms/step\n",
            "1/1 [==============================] - 0s 18ms/step\n",
            "1/1 [==============================] - 0s 18ms/step\n",
            "1/1 [==============================] - 0s 20ms/step\n",
            "1/1 [==============================] - 0s 19ms/step\n",
            "1/1 [==============================] - 0s 20ms/step\n",
            "[start] en la vida hay que [UNK] [end]\n",
            "-\n",
            "I'm good at playing the piano.\n",
            "1/1 [==============================] - 0s 19ms/step\n",
            "1/1 [==============================] - 0s 20ms/step\n",
            "1/1 [==============================] - 0s 19ms/step\n",
            "1/1 [==============================] - 0s 18ms/step\n",
            "1/1 [==============================] - 0s 20ms/step\n",
            "1/1 [==============================] - 0s 20ms/step\n",
            "[start] soy bueno para el juego [end]\n"
          ]
        }
      ],
      "source": [
        "import numpy as np\n",
        "spa_vocab = target_vectorization.get_vocabulary()\n",
        "spa_index_lookup = dict(zip(range(len(spa_vocab)), spa_vocab))\n",
        "max_decoded_sentence_length = 20\n",
        "\n",
        "def decode_sequence(input_sentence):\n",
        "    tokenized_input_sentence = source_vectorization([input_sentence])\n",
        "    decoded_sentence = \"[start]\"\n",
        "    for i in range(max_decoded_sentence_length):\n",
        "        tokenized_target_sentence = target_vectorization([decoded_sentence])\n",
        "        next_token_predictions = seq2seq_rnn.predict(\n",
        "            [tokenized_input_sentence, tokenized_target_sentence])\n",
        "        sampled_token_index = np.argmax(next_token_predictions[0, i, :])\n",
        "        sampled_token = spa_index_lookup[sampled_token_index]\n",
        "        decoded_sentence += \" \" + sampled_token\n",
        "        if sampled_token == \"[end]\":\n",
        "            break\n",
        "    return decoded_sentence\n",
        "\n",
        "test_eng_texts = [pair[0] for pair in test_pairs]\n",
        "for _ in range(20):\n",
        "    input_sentence = random.choice(test_eng_texts)\n",
        "    print(\"-\")\n",
        "    print(input_sentence)\n",
        "    print(decode_sequence(input_sentence))"
      ]
    },
    {
      "cell_type": "markdown",
      "metadata": {
        "id": "xrS_fIb_kuTR"
      },
      "source": [
        "### Sequence-to-sequence learning with Transformer"
      ]
    },
    {
      "cell_type": "markdown",
      "source": [
        "The Transformer encoder"
      ],
      "metadata": {
        "id": "livtN3hIMGka"
      }
    },
    {
      "cell_type": "markdown",
      "source": [
        "The TransformerEncoder"
      ],
      "metadata": {
        "id": "SciIZf73MJ_z"
      }
    },
    {
      "cell_type": "code",
      "source": [
        "class TransformerEncoder(layers.Layer):\n",
        "    def __init__(self, embed_dim, dense_dim, num_heads, **kwargs):\n",
        "        super().__init__(**kwargs)\n",
        "        self.embed_dim = embed_dim\n",
        "        self.dense_dim = dense_dim\n",
        "        self.num_heads = num_heads\n",
        "        self.attention = layers.MultiHeadAttention(\n",
        "            num_heads=num_heads, key_dim=embed_dim\n",
        "        )\n",
        "        self.dense_proj = keras.Sequential(\n",
        "            [layers.Dense(dense_dim, activation=\"relu\"), layers.Dense(embed_dim),]\n",
        "        )\n",
        "        self.layernorm_1 = layers.LayerNormalization()\n",
        "        self.layernorm_2 = layers.LayerNormalization()\n",
        "        self.supports_masking = True\n",
        "\n",
        "    def call(self, inputs, mask):\n",
        "        if mask is not None:\n",
        "            padding_mask = tf.cast(mask[:, tf.newaxis, tf.newaxis, :], dtype=\"int32\")\n",
        "        attention_output = self.attention(\n",
        "            query=inputs, value=inputs, key=inputs, attention_mask=padding_mask\n",
        "        )\n",
        "        proj_input = self.layernorm_1(inputs + attention_output)\n",
        "        proj_output = self.dense_proj(proj_input)\n",
        "        return self.layernorm_2(proj_input + proj_output)"
      ],
      "metadata": {
        "id": "RVazB0eDMMz5"
      },
      "execution_count": 15,
      "outputs": []
    },
    {
      "cell_type": "markdown",
      "metadata": {
        "id": "aRaTvp-EkuTR"
      },
      "source": [
        "#### The Transformer decoder"
      ]
    },
    {
      "cell_type": "markdown",
      "metadata": {
        "id": "JZ9AgoQzkuTR"
      },
      "source": [
        "**The `TransformerDecoder`**"
      ]
    },
    {
      "cell_type": "code",
      "execution_count": 12,
      "metadata": {
        "id": "Iyiwp5XOkuTR"
      },
      "outputs": [],
      "source": [
        "class TransformerDecoder(layers.Layer):\n",
        "    def __init__(self, embed_dim, dense_dim, num_heads, **kwargs):\n",
        "        super().__init__(**kwargs)\n",
        "        self.embed_dim = embed_dim\n",
        "        self.dense_dim = dense_dim\n",
        "        self.num_heads = num_heads\n",
        "        self.attention_1 = layers.MultiHeadAttention(\n",
        "            num_heads=num_heads, key_dim=embed_dim)\n",
        "        self.attention_2 = layers.MultiHeadAttention(\n",
        "            num_heads=num_heads, key_dim=embed_dim)\n",
        "        self.dense_proj = keras.Sequential(\n",
        "            [layers.Dense(dense_dim, activation=\"relu\"),\n",
        "             layers.Dense(embed_dim),]\n",
        "        )\n",
        "        self.layernorm_1 = layers.LayerNormalization()\n",
        "        self.layernorm_2 = layers.LayerNormalization()\n",
        "        self.layernorm_3 = layers.LayerNormalization()\n",
        "        self.supports_masking = True\n",
        "\n",
        "    def get_config(self):\n",
        "        config = super().get_config()\n",
        "        config.update({\n",
        "            \"embed_dim\": self.embed_dim,\n",
        "            \"num_heads\": self.num_heads,\n",
        "            \"dense_dim\": self.dense_dim,\n",
        "        })\n",
        "        return config\n",
        "\n",
        "    def get_causal_attention_mask(self, inputs):\n",
        "        input_shape = tf.shape(inputs)\n",
        "        batch_size, sequence_length = input_shape[0], input_shape[1]\n",
        "        i = tf.range(sequence_length)[:, tf.newaxis]\n",
        "        j = tf.range(sequence_length)\n",
        "        mask = tf.cast(i >= j, dtype=\"int32\")\n",
        "        mask = tf.reshape(mask, (1, input_shape[1], input_shape[1]))\n",
        "        mult = tf.concat(\n",
        "            [tf.expand_dims(batch_size, -1),\n",
        "             tf.constant([1, 1], dtype=tf.int32)], axis=0)\n",
        "        return tf.tile(mask, mult)\n",
        "\n",
        "    def call(self, inputs, encoder_outputs, mask=None):\n",
        "        causal_mask = self.get_causal_attention_mask(inputs)\n",
        "        if mask is not None:\n",
        "            padding_mask = tf.cast(\n",
        "                mask[:, tf.newaxis, :], dtype=\"int32\")\n",
        "            padding_mask = tf.minimum(padding_mask, causal_mask)\n",
        "        attention_output_1 = self.attention_1(\n",
        "            query=inputs,\n",
        "            value=inputs,\n",
        "            key=inputs,\n",
        "            attention_mask=causal_mask)\n",
        "        attention_output_1 = self.layernorm_1(inputs + attention_output_1)\n",
        "        attention_output_2 = self.attention_2(\n",
        "            query=attention_output_1,\n",
        "            value=encoder_outputs,\n",
        "            key=encoder_outputs,\n",
        "            attention_mask=padding_mask,\n",
        "        )\n",
        "        attention_output_2 = self.layernorm_2(\n",
        "            attention_output_1 + attention_output_2)\n",
        "        proj_output = self.dense_proj(attention_output_2)\n",
        "        return self.layernorm_3(attention_output_2 + proj_output)"
      ]
    },
    {
      "cell_type": "markdown",
      "metadata": {
        "id": "mYT0ZD6XkuTS"
      },
      "source": [
        "#### Putting it all together: A Transformer for machine translation"
      ]
    },
    {
      "cell_type": "markdown",
      "metadata": {
        "id": "ZQ2NmIBUkuTS"
      },
      "source": [
        "**PositionalEmbedding layer**"
      ]
    },
    {
      "cell_type": "code",
      "execution_count": 13,
      "metadata": {
        "id": "MZKh-p7jkuTS"
      },
      "outputs": [],
      "source": [
        "class PositionalEmbedding(layers.Layer):\n",
        "    def __init__(self, sequence_length, input_dim, output_dim, **kwargs):\n",
        "        super().__init__(**kwargs)\n",
        "        self.token_embeddings = layers.Embedding(\n",
        "            input_dim=input_dim, output_dim=output_dim)\n",
        "        self.position_embeddings = layers.Embedding(\n",
        "            input_dim=sequence_length, output_dim=output_dim)\n",
        "        self.sequence_length = sequence_length\n",
        "        self.input_dim = input_dim\n",
        "        self.output_dim = output_dim\n",
        "\n",
        "    def call(self, inputs):\n",
        "        length = tf.shape(inputs)[-1]\n",
        "        positions = tf.range(start=0, limit=length, delta=1)\n",
        "        embedded_tokens = self.token_embeddings(inputs)\n",
        "        embedded_positions = self.position_embeddings(positions)\n",
        "        return embedded_tokens + embedded_positions\n",
        "\n",
        "    def compute_mask(self, inputs, mask=None):\n",
        "        return tf.math.not_equal(inputs, 0)\n",
        "\n",
        "    def get_config(self):\n",
        "        config = super(PositionalEmbedding, self).get_config()\n",
        "        config.update({\n",
        "            \"output_dim\": self.output_dim,\n",
        "            \"sequence_length\": self.sequence_length,\n",
        "            \"input_dim\": self.input_dim,\n",
        "        })\n",
        "        return config"
      ]
    },
    {
      "cell_type": "markdown",
      "metadata": {
        "id": "AEmg_adukuTS"
      },
      "source": [
        "**End-to-end Transformer**"
      ]
    },
    {
      "cell_type": "code",
      "execution_count": 16,
      "metadata": {
        "id": "RQsZYTpskuTT"
      },
      "outputs": [],
      "source": [
        "embed_dim = 256\n",
        "dense_dim = 2048\n",
        "num_heads = 8\n",
        "\n",
        "encoder_inputs = keras.Input(shape=(None,), dtype=\"int64\", name=\"english\")\n",
        "x = PositionalEmbedding(sequence_length, vocab_size, embed_dim)(encoder_inputs)\n",
        "encoder_outputs = TransformerEncoder(embed_dim, dense_dim, num_heads)(x)\n",
        "\n",
        "decoder_inputs = keras.Input(shape=(None,), dtype=\"int64\", name=\"spanish\")\n",
        "x = PositionalEmbedding(sequence_length, vocab_size, embed_dim)(decoder_inputs)\n",
        "x = TransformerDecoder(embed_dim, dense_dim, num_heads)(x, encoder_outputs)\n",
        "x = layers.Dropout(0.5)(x)\n",
        "decoder_outputs = layers.Dense(vocab_size, activation=\"softmax\")(x)\n",
        "transformer = keras.Model([encoder_inputs, decoder_inputs], decoder_outputs)"
      ]
    },
    {
      "cell_type": "markdown",
      "metadata": {
        "id": "5dYsCfv9kuTT"
      },
      "source": [
        "**Training the sequence-to-sequence Transformer**"
      ]
    },
    {
      "cell_type": "code",
      "execution_count": 17,
      "metadata": {
        "colab": {
          "base_uri": "https://localhost:8080/"
        },
        "id": "1jEYANBikuTT",
        "outputId": "82a066f3-95b5-4dbf-ef34-ddf53799fa9f"
      },
      "outputs": [
        {
          "output_type": "stream",
          "name": "stdout",
          "text": [
            "Epoch 1/30\n",
            "1302/1302 [==============================] - 97s 72ms/step - loss: 1.6431 - accuracy: 0.4303 - val_loss: 1.3208 - val_accuracy: 0.5186\n",
            "Epoch 2/30\n",
            "1302/1302 [==============================] - 92s 71ms/step - loss: 1.3116 - accuracy: 0.5430 - val_loss: 1.1416 - val_accuracy: 0.5811\n",
            "Epoch 3/30\n",
            "1302/1302 [==============================] - 93s 71ms/step - loss: 1.1606 - accuracy: 0.5917 - val_loss: 1.0616 - val_accuracy: 0.6116\n",
            "Epoch 4/30\n",
            "1302/1302 [==============================] - 92s 71ms/step - loss: 1.0771 - accuracy: 0.6226 - val_loss: 1.0271 - val_accuracy: 0.6291\n",
            "Epoch 5/30\n",
            "1302/1302 [==============================] - 92s 71ms/step - loss: 1.0313 - accuracy: 0.6431 - val_loss: 1.0061 - val_accuracy: 0.6400\n",
            "Epoch 6/30\n",
            "1302/1302 [==============================] - 92s 71ms/step - loss: 1.0023 - accuracy: 0.6583 - val_loss: 0.9914 - val_accuracy: 0.6484\n",
            "Epoch 7/30\n",
            "1302/1302 [==============================] - 92s 70ms/step - loss: 0.9819 - accuracy: 0.6696 - val_loss: 0.9945 - val_accuracy: 0.6506\n",
            "Epoch 8/30\n",
            "1302/1302 [==============================] - 92s 70ms/step - loss: 0.9654 - accuracy: 0.6791 - val_loss: 0.9913 - val_accuracy: 0.6529\n",
            "Epoch 9/30\n",
            "1302/1302 [==============================] - 92s 70ms/step - loss: 0.9509 - accuracy: 0.6875 - val_loss: 0.9809 - val_accuracy: 0.6586\n",
            "Epoch 10/30\n",
            "1302/1302 [==============================] - 92s 71ms/step - loss: 0.9385 - accuracy: 0.6944 - val_loss: 0.9900 - val_accuracy: 0.6571\n",
            "Epoch 11/30\n",
            "1302/1302 [==============================] - 92s 70ms/step - loss: 0.9271 - accuracy: 0.7000 - val_loss: 0.9877 - val_accuracy: 0.6609\n",
            "Epoch 12/30\n",
            "1302/1302 [==============================] - 92s 70ms/step - loss: 0.9157 - accuracy: 0.7058 - val_loss: 0.9905 - val_accuracy: 0.6613\n",
            "Epoch 13/30\n",
            "1302/1302 [==============================] - 91s 70ms/step - loss: 0.9049 - accuracy: 0.7109 - val_loss: 0.9899 - val_accuracy: 0.6643\n",
            "Epoch 14/30\n",
            "1302/1302 [==============================] - 92s 71ms/step - loss: 0.8940 - accuracy: 0.7155 - val_loss: 0.9907 - val_accuracy: 0.6630\n",
            "Epoch 15/30\n",
            "1302/1302 [==============================] - 92s 70ms/step - loss: 0.8831 - accuracy: 0.7201 - val_loss: 0.9930 - val_accuracy: 0.6659\n",
            "Epoch 16/30\n",
            "1302/1302 [==============================] - 92s 70ms/step - loss: 0.8731 - accuracy: 0.7237 - val_loss: 0.9964 - val_accuracy: 0.6651\n",
            "Epoch 17/30\n",
            "1302/1302 [==============================] - 92s 71ms/step - loss: 0.8642 - accuracy: 0.7277 - val_loss: 1.0015 - val_accuracy: 0.6670\n",
            "Epoch 18/30\n",
            "1302/1302 [==============================] - 92s 70ms/step - loss: 0.8566 - accuracy: 0.7305 - val_loss: 1.0036 - val_accuracy: 0.6650\n",
            "Epoch 19/30\n",
            "1302/1302 [==============================] - 92s 71ms/step - loss: 0.8471 - accuracy: 0.7343 - val_loss: 1.0069 - val_accuracy: 0.6664\n",
            "Epoch 20/30\n",
            "1302/1302 [==============================] - 92s 70ms/step - loss: 0.8391 - accuracy: 0.7374 - val_loss: 1.0088 - val_accuracy: 0.6640\n",
            "Epoch 21/30\n",
            "1302/1302 [==============================] - 92s 71ms/step - loss: 0.8316 - accuracy: 0.7398 - val_loss: 1.0169 - val_accuracy: 0.6648\n",
            "Epoch 22/30\n",
            "1302/1302 [==============================] - 92s 71ms/step - loss: 0.8237 - accuracy: 0.7432 - val_loss: 1.0163 - val_accuracy: 0.6667\n",
            "Epoch 23/30\n",
            "1302/1302 [==============================] - 92s 71ms/step - loss: 0.8170 - accuracy: 0.7455 - val_loss: 1.0215 - val_accuracy: 0.6625\n",
            "Epoch 24/30\n",
            "1302/1302 [==============================] - 92s 71ms/step - loss: 0.8088 - accuracy: 0.7485 - val_loss: 1.0271 - val_accuracy: 0.6638\n",
            "Epoch 25/30\n",
            "1302/1302 [==============================] - 92s 71ms/step - loss: 0.8022 - accuracy: 0.7512 - val_loss: 1.0260 - val_accuracy: 0.6645\n",
            "Epoch 26/30\n",
            "1302/1302 [==============================] - 92s 71ms/step - loss: 0.7960 - accuracy: 0.7530 - val_loss: 1.0381 - val_accuracy: 0.6656\n",
            "Epoch 27/30\n",
            "1302/1302 [==============================] - 92s 71ms/step - loss: 0.7893 - accuracy: 0.7558 - val_loss: 1.0339 - val_accuracy: 0.6659\n",
            "Epoch 28/30\n",
            "1302/1302 [==============================] - 92s 71ms/step - loss: 0.7837 - accuracy: 0.7577 - val_loss: 1.0381 - val_accuracy: 0.6644\n",
            "Epoch 29/30\n",
            "1302/1302 [==============================] - 92s 71ms/step - loss: 0.7784 - accuracy: 0.7597 - val_loss: 1.0375 - val_accuracy: 0.6628\n",
            "Epoch 30/30\n",
            "1302/1302 [==============================] - 92s 71ms/step - loss: 0.7724 - accuracy: 0.7621 - val_loss: 1.0550 - val_accuracy: 0.6637\n"
          ]
        },
        {
          "output_type": "execute_result",
          "data": {
            "text/plain": [
              "<keras.callbacks.History at 0x7f405b1f0bb0>"
            ]
          },
          "metadata": {},
          "execution_count": 17
        }
      ],
      "source": [
        "transformer.compile(\n",
        "    optimizer=\"rmsprop\",\n",
        "    loss=\"sparse_categorical_crossentropy\",\n",
        "    metrics=[\"accuracy\"])\n",
        "transformer.fit(train_ds, epochs=30, validation_data=val_ds)"
      ]
    },
    {
      "cell_type": "markdown",
      "metadata": {
        "id": "GHcvzkQ3kuTT"
      },
      "source": [
        "**Translating new sentences with our Transformer model**"
      ]
    },
    {
      "cell_type": "code",
      "execution_count": 18,
      "metadata": {
        "colab": {
          "base_uri": "https://localhost:8080/"
        },
        "id": "HGLWPK48kuTT",
        "outputId": "9944c9cd-65e1-4272-fcaf-548ea0e60daf"
      },
      "outputs": [
        {
          "output_type": "stream",
          "name": "stdout",
          "text": [
            "-\n",
            "I want Tom to know what really happened.\n",
            "[start] quiero que tom sabe de verdad [end]\n",
            "-\n",
            "There's little chance of keeping slim, unless you stick to a diet.\n",
            "[start] hay pocas cosas de de [UNK] a mary para que se [UNK] a [UNK] [end]\n",
            "-\n",
            "This book sold well in Japan.\n",
            "[start] este libro se le respondió bien a japón [end]\n",
            "-\n",
            "I'm sure everything will work out just fine.\n",
            "[start] estoy seguro de que todo va bien [end]\n",
            "-\n",
            "A monument was erected in memory of the deceased.\n",
            "[start] se me [UNK] para [UNK] de los [UNK] [end]\n",
            "-\n",
            "Tom said that he thought Mary was still living with her parents.\n",
            "[start] tom dijo que pensó que mary estaba viven en su [end]\n",
            "-\n",
            "I'm dying of hunger.\n",
            "[start] me estoy [UNK] de hambre [end]\n",
            "-\n",
            "Tom missed the last train and spent the night at an Internet cafe.\n",
            "[start] tom perdió el último y pasó toda la noche en el otro café [end]\n",
            "-\n",
            "You're sloshed.\n",
            "[start] estás borracho [end]\n",
            "-\n",
            "I sometimes play tennis with her.\n",
            "[start] a veces juego tenis con ella [end]\n",
            "-\n",
            "The hunter shot a fox.\n",
            "[start] el que se cayó un él [end]\n",
            "-\n",
            "She gave a narrative of her strange experience.\n",
            "[start] ella le dio un [UNK] de su experiencia [end]\n",
            "-\n",
            "Tom had a bad day.\n",
            "[start] tom tuvo un mal día [end]\n",
            "-\n",
            "Tom slept on the top bunk.\n",
            "[start] tom dormido en clase en la [UNK] [end]\n",
            "-\n",
            "You are from Hokkaido, aren't you?\n",
            "[start] eres de hokkaido en hokkaido verdad [end]\n",
            "-\n",
            "Tom gave a speech.\n",
            "[start] tomás dio un discurso [end]\n",
            "-\n",
            "There's nothing harder than a diamond.\n",
            "[start] hay algo más duro que el equipaje [end]\n",
            "-\n",
            "I wouldn't want Tom as a friend because he's very selfish.\n",
            "[start] yo no quisiera a tom ser muy amigo porque era muy egoísta [end]\n",
            "-\n",
            "I told them they shouldn't move.\n",
            "[start] les dije que no deberías [UNK] [end]\n",
            "-\n",
            "She always has some axe to grind.\n",
            "[start] ella siempre tiene algunos [UNK] para [UNK] [end]\n"
          ]
        }
      ],
      "source": [
        "import numpy as np\n",
        "spa_vocab = target_vectorization.get_vocabulary()\n",
        "spa_index_lookup = dict(zip(range(len(spa_vocab)), spa_vocab))\n",
        "max_decoded_sentence_length = 20\n",
        "\n",
        "def decode_sequence(input_sentence):\n",
        "    tokenized_input_sentence = source_vectorization([input_sentence])\n",
        "    decoded_sentence = \"[start]\"\n",
        "    for i in range(max_decoded_sentence_length):\n",
        "        tokenized_target_sentence = target_vectorization(\n",
        "            [decoded_sentence])[:, :-1]\n",
        "        predictions = transformer(\n",
        "            [tokenized_input_sentence, tokenized_target_sentence])\n",
        "        sampled_token_index = np.argmax(predictions[0, i, :])\n",
        "        sampled_token = spa_index_lookup[sampled_token_index]\n",
        "        decoded_sentence += \" \" + sampled_token\n",
        "        if sampled_token == \"[end]\":\n",
        "            break\n",
        "    return decoded_sentence\n",
        "\n",
        "test_eng_texts = [pair[0] for pair in test_pairs]\n",
        "for _ in range(20):\n",
        "    input_sentence = random.choice(test_eng_texts)\n",
        "    print(\"-\")\n",
        "    print(input_sentence)\n",
        "    print(decode_sequence(input_sentence))"
      ]
    },
    {
      "cell_type": "markdown",
      "metadata": {
        "id": "8576ftawkuTU"
      },
      "source": [
        "## Summary"
      ]
    }
  ],
  "metadata": {
    "colab": {
      "provenance": []
    },
    "kernelspec": {
      "display_name": "Python 3",
      "language": "python",
      "name": "python3"
    },
    "language_info": {
      "codemirror_mode": {
        "name": "ipython",
        "version": 3
      },
      "file_extension": ".py",
      "mimetype": "text/x-python",
      "name": "python",
      "nbconvert_exporter": "python",
      "pygments_lexer": "ipython3",
      "version": "3.7.0"
    },
    "accelerator": "GPU",
    "gpuClass": "standard"
  },
  "nbformat": 4,
  "nbformat_minor": 0
}